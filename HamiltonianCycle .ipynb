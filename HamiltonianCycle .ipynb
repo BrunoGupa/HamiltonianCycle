{
 "cells": [
  {
   "cell_type": "markdown",
   "metadata": {},
   "source": [
    "# Hamiltonian Cycle"
   ]
  },
  {
   "cell_type": "code",
   "execution_count": 3,
   "metadata": {},
   "outputs": [],
   "source": [
    "import numpy as np\n",
    "import copy\n",
    "\n",
    "def HamiltonianCycle(graph):\n",
    "    # 1. Start with a random vertex as the head of the path\n",
    "    # Make a copy of the graph\n",
    "    Failure = False\n",
    "    graphic = copy.deepcopy(graph.graph_dict)\n",
    "    graphic\n",
    "    path = []\n",
    "    vertices = graph.vertices()\n",
    "    n = len(vertices)\n",
    "    head = random.sample(vertices,1)\n",
    "    head = head[0]\n",
    "\n",
    "    while True:\n",
    "        neighbors = graphic[str(head)]\n",
    "        if len(neighbors) > 0:\n",
    "            new_head = random.sample(neighbors,1)\n",
    "            new_head = new_head[0]\n",
    "            graphic[head].remove(new_head)\n",
    "            graphic[new_head].remove(head)\n",
    "            if new_head not in path:\n",
    "                path.append(new_head)\n",
    "                head = new_head\n",
    "            else:\n",
    "                if (len(path) == n) and (new_head == path[0]):\n",
    "                # Return the Hamiltonian cyecle\n",
    "                    print('We have Hamiltonian Cycle')\n",
    "                    break\n",
    "                else:\n",
    "                    #reverse\n",
    "                    m = len(path)\n",
    "                    index = path.index(new_head)\n",
    "                    index\n",
    "                    new_path = []\n",
    "                    for k in range(index + 1):\n",
    "                        new_path.append(path[k])\n",
    "                    for r in range(m - 1, index , -1):\n",
    "                        new_path.append(path[r])\n",
    "                    path = new_path\n",
    "                    head = path[m-1]\n",
    "                \n",
    "        else:\n",
    "            Failure = True\n",
    "            \n",
    "            break\n",
    "    if Failure is True:\n",
    "        return print('FAILURE')\n",
    "    else:\n",
    "        return path\n",
    "\n"
   ]
  },
  {
   "cell_type": "markdown",
   "metadata": {},
   "source": [
    "## Create a Random Graph"
   ]
  },
  {
   "cell_type": "code",
   "execution_count": 5,
   "metadata": {},
   "outputs": [
    {
     "output_type": "execute_result",
     "data": {
      "text/plain": "{'0': ['1', '9', '7', '3', '14', '8', '11'],\n '1': ['0', '4', '10', '5', '13', '8', '7', '6', '3', '2', '11', '12'],\n '2': ['7', '4', '5', '6', '8', '10', '3', '1', '11', '12', '9', '14'],\n '3': ['6', '14', '0', '10', '11', '1', '2', '5', '4', '12'],\n '4': ['9', '10', '8', '12', '1', '11', '7', '2', '13', '3', '14', '5'],\n '5': ['12', '11', '10', '6', '13', '1', '2', '7', '3', '4', '14'],\n '6': ['3', '13', '7', '5', '12', '10', '2', '1', '8', '14', '11'],\n '7': ['12', '0', '6', '2', '4', '13', '1', '5', '10'],\n '8': ['12', '4', '9', '11', '1', '0', '2', '6', '13', '14'],\n '9': ['12', '4', '0', '13', '8', '10', '11', '2', '14'],\n '10': ['4', '12', '1', '5', '6', '14', '3', '2', '9', '11', '7'],\n '11': ['13', '5', '4', '8', '3', '10', '2', '12', '9', '1', '0', '6'],\n '12': ['9', '8', '7', '4', '10', '5', '6', '13', '11', '2', '1', '14', '3'],\n '13': ['9', '6', '11', '5', '1', '7', '12', '14', '4', '8'],\n '14': ['10', '3', '13', '0', '6', '4', '8', '2', '12', '5', '9']}"
     },
     "metadata": {},
     "execution_count": 5
    }
   ],
   "source": [
    "graph = Random_graph(15, 80)\n",
    "graph.graph_dict"
   ]
  },
  {
   "cell_type": "code",
   "execution_count": 6,
   "metadata": {
    "tags": []
   },
   "outputs": [
    {
     "output_type": "stream",
     "name": "stdout",
     "text": "We have Hamiltonian Cycle\n"
    },
    {
     "output_type": "execute_result",
     "data": {
      "text/plain": "['11',\n '4',\n '9',\n '10',\n '6',\n '14',\n '13',\n '12',\n '7',\n '2',\n '3',\n '5',\n '1',\n '0',\n '8']"
     },
     "metadata": {},
     "execution_count": 6
    }
   ],
   "source": [
    "HamiltonianCycle(graph)"
   ]
  },
  {
   "cell_type": "code",
   "execution_count": null,
   "metadata": {},
   "outputs": [],
   "source": []
  }
 ],
 "metadata": {
  "language_info": {
   "codemirror_mode": {
    "name": "ipython",
    "version": 2
   },
   "file_extension": ".py",
   "mimetype": "text/x-python",
   "name": "python",
   "nbconvert_exporter": "python",
   "pygments_lexer": "ipython2",
   "version": "3.7.7-final"
  },
  "orig_nbformat": 2,
  "kernelspec": {
   "name": "python37764bitpytorchenvconda871555cf05a649bcbe938c6eeed2d7c5",
   "display_name": "Python 3.7.7 64-bit ('PytorchEnv': conda)"
  }
 },
 "nbformat": 4,
 "nbformat_minor": 2
}